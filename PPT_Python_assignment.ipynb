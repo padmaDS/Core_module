{
  "nbformat": 4,
  "nbformat_minor": 0,
  "metadata": {
    "colab": {
      "provenance": []
    },
    "kernelspec": {
      "name": "python3",
      "display_name": "Python 3"
    },
    "language_info": {
      "name": "python"
    }
  },
  "cells": [
    {
      "cell_type": "markdown",
      "source": [
        "1. Write a Python program to reverse a string without using any built-in string reversal functions."
      ],
      "metadata": {
        "id": "gxsvasceMjPn"
      }
    },
    {
      "cell_type": "code",
      "execution_count": 37,
      "metadata": {
        "id": "tD3EhPbrMgVo"
      },
      "outputs": [],
      "source": [
        "def reverse(s):\n",
        "    if len(s) == 0:\n",
        "        return s\n",
        "    else:\n",
        "        return reverse(s[1:]) + s[0]\n"
      ]
    },
    {
      "cell_type": "code",
      "source": [
        "reverse('padma')"
      ],
      "metadata": {
        "colab": {
          "base_uri": "https://localhost:8080/",
          "height": 36
        },
        "id": "tKufn7qmO077",
        "outputId": "ecd217b3-2ca1-4940-ae6e-7ed211b9c95b"
      },
      "execution_count": 38,
      "outputs": [
        {
          "output_type": "execute_result",
          "data": {
            "text/plain": [
              "'amdap'"
            ],
            "application/vnd.google.colaboratory.intrinsic+json": {
              "type": "string"
            }
          },
          "metadata": {},
          "execution_count": 38
        }
      ]
    },
    {
      "cell_type": "markdown",
      "source": [
        "2. Implement a function to check if a given string is a palindrome."
      ],
      "metadata": {
        "id": "ID8qPmzQMiSy"
      }
    },
    {
      "cell_type": "code",
      "source": [
        "def isPalindrome(s):\n",
        "    return s == s[::-1]"
      ],
      "metadata": {
        "id": "5Gzj6aTEONfx"
      },
      "execution_count": 39,
      "outputs": []
    },
    {
      "cell_type": "markdown",
      "source": [
        "3. Write a program to find the largest element in a given list."
      ],
      "metadata": {
        "id": "u48E4g_rPehq"
      }
    },
    {
      "cell_type": "code",
      "source": [
        "def find_largest_element(lst):\n",
        "    if not lst:\n",
        "        return None\n",
        "\n",
        "    largest = lst[0]\n",
        "    for element in lst:\n",
        "        if element > largest:\n",
        "            largest = element\n",
        "\n",
        "    return largest\n",
        "\n"
      ],
      "metadata": {
        "id": "YHFBYqCrOPR3"
      },
      "execution_count": 40,
      "outputs": []
    },
    {
      "cell_type": "markdown",
      "source": [
        "4. Implement a function to count the occurrence of each element in a list."
      ],
      "metadata": {
        "id": "GIPcA5FnTF2V"
      }
    },
    {
      "cell_type": "code",
      "source": [
        "def count_elements(lst):\n",
        "    element_count = {}\n",
        "    for element in lst:\n",
        "        if element in element_count:\n",
        "            element_count[element] += 1\n",
        "        else:\n",
        "            element_count[element] = 1\n",
        "    return element_count\n"
      ],
      "metadata": {
        "id": "EDuWGdeESxKT"
      },
      "execution_count": 41,
      "outputs": []
    },
    {
      "cell_type": "markdown",
      "source": [
        "5. Write a Python program to find the second largest number in a list."
      ],
      "metadata": {
        "id": "ossW0frbUO8N"
      }
    },
    {
      "cell_type": "code",
      "source": [
        "def find_second_largest(lst):\n",
        "    if len(lst) < 2:\n",
        "        return None\n",
        "\n",
        "    sorted_list = sorted(lst, reverse=True)\n",
        "    return sorted_list[1]\n"
      ],
      "metadata": {
        "id": "M7UxAAoPUNBu"
      },
      "execution_count": 42,
      "outputs": []
    },
    {
      "cell_type": "markdown",
      "source": [
        "6. Implement a function to remove duplicate elements from a list."
      ],
      "metadata": {
        "id": "9snzP-dIUjsx"
      }
    },
    {
      "cell_type": "code",
      "source": [
        "def remove_duplicates(lst):\n",
        "    return list(set(lst))\n"
      ],
      "metadata": {
        "id": "o8wHFmtfUfxU"
      },
      "execution_count": 43,
      "outputs": []
    },
    {
      "cell_type": "markdown",
      "source": [
        "7. Write a program to calculate the factorial of a given number."
      ],
      "metadata": {
        "id": "7jKImhC9UlLn"
      }
    },
    {
      "cell_type": "code",
      "source": [
        "import math\n",
        "def factorial(n):\n",
        "    if n < 0:\n",
        "        return None\n",
        "    else:\n",
        "        return math.factorial(n)"
      ],
      "metadata": {
        "id": "CjP-AAGxUzfW"
      },
      "execution_count": 44,
      "outputs": []
    },
    {
      "cell_type": "markdown",
      "source": [
        "8. Implement a function to check if a given number is prime."
      ],
      "metadata": {
        "id": "wW3kbW5NU61l"
      }
    },
    {
      "cell_type": "code",
      "source": [
        "def is_prime(n):\n",
        "    if n <= 1:\n",
        "        return False\n",
        "    for i in range(2, int(n ** 0.5) + 1):\n",
        "        if n % i == 0:\n",
        "            return False\n",
        "    return True\n"
      ],
      "metadata": {
        "id": "GG4g_-LNU3FE"
      },
      "execution_count": 45,
      "outputs": []
    },
    {
      "cell_type": "markdown",
      "source": [
        "9. Write a Python program to sort a list of integers in ascending order."
      ],
      "metadata": {
        "id": "0KcSCY27VNuo"
      }
    },
    {
      "cell_type": "code",
      "source": [
        "def sort_list(lst):\n",
        "    return sorted(lst)"
      ],
      "metadata": {
        "id": "GtwhLWDeVLQD"
      },
      "execution_count": 46,
      "outputs": []
    },
    {
      "cell_type": "markdown",
      "source": [
        "10. Implement a function to find the sum of all numbers in a list."
      ],
      "metadata": {
        "id": "bbQsUrwzVY60"
      }
    },
    {
      "cell_type": "code",
      "source": [
        "def sum_of_numbers(lst):\n",
        "    return sum(lst)\n"
      ],
      "metadata": {
        "id": "_yYwKBhYVWaN"
      },
      "execution_count": 47,
      "outputs": []
    },
    {
      "cell_type": "markdown",
      "source": [
        "11. Write a program to find the common elements between two lists."
      ],
      "metadata": {
        "id": "kja7AM7EVglO"
      }
    },
    {
      "cell_type": "code",
      "source": [
        "def find_common_elements(list1, list2):\n",
        "    common_elements = []\n",
        "    for element in list1:\n",
        "        if element in list2:\n",
        "            common_elements.append(element)\n",
        "    return common_elements"
      ],
      "metadata": {
        "id": "WB8p7rAgVymf"
      },
      "execution_count": 48,
      "outputs": []
    },
    {
      "cell_type": "markdown",
      "source": [
        "12. Implement a function to check if a given string is an anagram of another string."
      ],
      "metadata": {
        "id": "27au1n5JV4KZ"
      }
    },
    {
      "cell_type": "code",
      "source": [
        "def is_anagram(str1, str2):\n",
        "    str1_sorted = sorted(str1.lower())\n",
        "    str2_sorted = sorted(str2.lower())\n",
        "\n",
        "    return str1_sorted == str2_sorted\n"
      ],
      "metadata": {
        "id": "PrFo6LpdVz6O"
      },
      "execution_count": 49,
      "outputs": []
    },
    {
      "cell_type": "code",
      "source": [
        "is_anagram('padma', 'papap')"
      ],
      "metadata": {
        "colab": {
          "base_uri": "https://localhost:8080/"
        },
        "id": "eqibugb1WIj9",
        "outputId": "cc1e8180-9786-480b-b917-2f71374acaf1"
      },
      "execution_count": 50,
      "outputs": [
        {
          "output_type": "execute_result",
          "data": {
            "text/plain": [
              "False"
            ]
          },
          "metadata": {},
          "execution_count": 50
        }
      ]
    },
    {
      "cell_type": "markdown",
      "source": [
        "13. Write a Python program to generate all permutations of a given string."
      ],
      "metadata": {
        "id": "fRNd_CTtWAIB"
      }
    },
    {
      "cell_type": "code",
      "source": [
        "def generate_permutations(string):\n",
        "    if len(string) == 0:\n",
        "        return []\n",
        "\n",
        "    if len(string) == 1:\n",
        "        return [string]\n",
        "\n",
        "    permutations = []\n",
        "    for i in range(len(string)):\n",
        "        char = string[i]\n",
        "        remaining_chars = string[:i] + string[i + 1:]\n",
        "        for permutation in generate_permutations(remaining_chars):\n",
        "            permutations.append(char + permutation)\n",
        "\n",
        "    return permutations\n"
      ],
      "metadata": {
        "id": "iuBNNZJ8WysT"
      },
      "execution_count": 51,
      "outputs": []
    },
    {
      "cell_type": "markdown",
      "source": [
        "14. Implement a function to calculate the Fibonacci sequence up to a given number of terms."
      ],
      "metadata": {
        "id": "FByla8A-XBC0"
      }
    },
    {
      "cell_type": "code",
      "source": [
        "def calculate_fibonacci(n):\n",
        "    sequence = []\n",
        "    a, b = 0, 1\n",
        "\n",
        "    while len(sequence) < n:\n",
        "        sequence.append(a)\n",
        "        a, b = b, a + b\n",
        "\n",
        "    return sequence\n"
      ],
      "metadata": {
        "id": "UFTgItFEW00J"
      },
      "execution_count": 52,
      "outputs": []
    },
    {
      "cell_type": "markdown",
      "source": [
        "15. Write a program to find the median of a list of numbers."
      ],
      "metadata": {
        "id": "B9XgEL9JXSaG"
      }
    },
    {
      "cell_type": "code",
      "source": [
        "import statistics\n",
        "\n",
        "def find_median(lst):\n",
        "    return statistics.median(lst)\n"
      ],
      "metadata": {
        "id": "oKZZwd-3XNfD"
      },
      "execution_count": 53,
      "outputs": []
    },
    {
      "cell_type": "markdown",
      "source": [
        "16. Implement a function to check if a given list is sorted in non-decreasing order."
      ],
      "metadata": {
        "id": "7oG7RaIEXjZX"
      }
    },
    {
      "cell_type": "code",
      "source": [
        "def is_sorted(lst):\n",
        "    return all(lst[i] <= lst[i+1] for i in range(len(lst)-1))\n"
      ],
      "metadata": {
        "id": "uUDHOOOFXgOB"
      },
      "execution_count": 54,
      "outputs": []
    },
    {
      "cell_type": "markdown",
      "source": [
        "17. Write a Python program to find the intersection of two lists."
      ],
      "metadata": {
        "id": "WgzsUKRYXwbD"
      }
    },
    {
      "cell_type": "code",
      "source": [
        "def find_intersection(list1, list2):\n",
        "    set1 = set(list1)\n",
        "    set2 = set(list2)\n",
        "    intersection = set1.intersection(set2)\n",
        "    return list(intersection)"
      ],
      "metadata": {
        "id": "-IWoLn-RXuim"
      },
      "execution_count": 55,
      "outputs": []
    },
    {
      "cell_type": "markdown",
      "source": [
        "18. Implement a function to find the maximum subarray sum in a given list."
      ],
      "metadata": {
        "id": "1-OluHHOYJCo"
      }
    },
    {
      "cell_type": "code",
      "source": [
        "def find_maximum_subarray_sum(lst):\n",
        "    max_sum = float('-inf')\n",
        "    current_sum = 0\n",
        "\n",
        "    for num in lst:\n",
        "        current_sum += num\n",
        "        if current_sum > max_sum:\n",
        "            max_sum = current_sum\n",
        "        if current_sum < 0:\n",
        "            current_sum = 0\n",
        "\n",
        "    return max_sum\n"
      ],
      "metadata": {
        "id": "9bd3uvFjX40w"
      },
      "execution_count": 56,
      "outputs": []
    },
    {
      "cell_type": "markdown",
      "source": [
        "19. Write a program to remove all vowels from a given string."
      ],
      "metadata": {
        "id": "FdJsg0kmYMwu"
      }
    },
    {
      "cell_type": "code",
      "source": [
        "def remove_vowels(string):\n",
        "    vowels = \"aeiouAEIOU\"\n",
        "    result = \"\"\n",
        "    for char in string:\n",
        "        if char not in vowels:\n",
        "            result += char\n",
        "    return result"
      ],
      "metadata": {
        "id": "hBwKXQdAYJ5e"
      },
      "execution_count": 57,
      "outputs": []
    },
    {
      "cell_type": "markdown",
      "source": [
        "20. Implement a function to reverse the order of words in a given sentence."
      ],
      "metadata": {
        "id": "pEAY78wDYfvN"
      }
    },
    {
      "cell_type": "code",
      "source": [
        "def reverse_words(sentence):\n",
        "    words = sentence.split()\n",
        "    reversed_sentence = ' '.join(reversed(words))\n",
        "    return reversed_sentence"
      ],
      "metadata": {
        "id": "7oVhVJolYc5T"
      },
      "execution_count": 58,
      "outputs": []
    },
    {
      "cell_type": "markdown",
      "source": [
        "21. Write a Python program to check if two strings are anagrams of each other."
      ],
      "metadata": {
        "id": "F22Nq887AGsh"
      }
    },
    {
      "cell_type": "code",
      "source": [
        "def are_anagrams(str1, str2):\n",
        "    # Remove spaces and convert strings to lowercase\n",
        "    str1 = str1.replace(' ', '').lower()\n",
        "    str2 = str2.replace(' ', '').lower()\n",
        "\n",
        "    # Sort the characters in both strings\n",
        "    sorted_str1 = sorted(str1)\n",
        "    sorted_str2 = sorted(str2)\n",
        "\n",
        "    # Compare the sorted strings\n",
        "    return sorted_str1 == sorted_str2\n",
        "\n"
      ],
      "metadata": {
        "id": "DL5RSTxbYn3L",
        "colab": {
          "base_uri": "https://localhost:8080/",
          "height": 396
        },
        "outputId": "3af7584c-5b8e-4909-a77f-f24058d34b97"
      },
      "execution_count": 59,
      "outputs": [
        {
          "output_type": "error",
          "ename": "KeyboardInterrupt",
          "evalue": "ignored",
          "traceback": [
            "\u001b[0;31m---------------------------------------------------------------------------\u001b[0m",
            "\u001b[0;31mKeyboardInterrupt\u001b[0m                         Traceback (most recent call last)",
            "\u001b[0;32m<ipython-input-59-fc1da09acc51>\u001b[0m in \u001b[0;36m<cell line: 14>\u001b[0;34m()\u001b[0m\n\u001b[1;32m     12\u001b[0m \u001b[0;34m\u001b[0m\u001b[0m\n\u001b[1;32m     13\u001b[0m \u001b[0;31m# Test the function\u001b[0m\u001b[0;34m\u001b[0m\u001b[0;34m\u001b[0m\u001b[0m\n\u001b[0;32m---> 14\u001b[0;31m \u001b[0mstring1\u001b[0m \u001b[0;34m=\u001b[0m \u001b[0minput\u001b[0m\u001b[0;34m(\u001b[0m\u001b[0;34m\"Enter the first string: \"\u001b[0m\u001b[0;34m)\u001b[0m\u001b[0;34m\u001b[0m\u001b[0;34m\u001b[0m\u001b[0m\n\u001b[0m\u001b[1;32m     15\u001b[0m \u001b[0mstring2\u001b[0m \u001b[0;34m=\u001b[0m \u001b[0minput\u001b[0m\u001b[0;34m(\u001b[0m\u001b[0;34m\"Enter the second string: \"\u001b[0m\u001b[0;34m)\u001b[0m\u001b[0;34m\u001b[0m\u001b[0;34m\u001b[0m\u001b[0m\n\u001b[1;32m     16\u001b[0m \u001b[0;34m\u001b[0m\u001b[0m\n",
            "\u001b[0;32m/usr/local/lib/python3.10/dist-packages/ipykernel/kernelbase.py\u001b[0m in \u001b[0;36mraw_input\u001b[0;34m(self, prompt)\u001b[0m\n\u001b[1;32m    849\u001b[0m                 \u001b[0;34m\"raw_input was called, but this frontend does not support input requests.\"\u001b[0m\u001b[0;34m\u001b[0m\u001b[0;34m\u001b[0m\u001b[0m\n\u001b[1;32m    850\u001b[0m             )\n\u001b[0;32m--> 851\u001b[0;31m         return self._input_request(str(prompt),\n\u001b[0m\u001b[1;32m    852\u001b[0m             \u001b[0mself\u001b[0m\u001b[0;34m.\u001b[0m\u001b[0m_parent_ident\u001b[0m\u001b[0;34m,\u001b[0m\u001b[0;34m\u001b[0m\u001b[0;34m\u001b[0m\u001b[0m\n\u001b[1;32m    853\u001b[0m             \u001b[0mself\u001b[0m\u001b[0;34m.\u001b[0m\u001b[0m_parent_header\u001b[0m\u001b[0;34m,\u001b[0m\u001b[0;34m\u001b[0m\u001b[0;34m\u001b[0m\u001b[0m\n",
            "\u001b[0;32m/usr/local/lib/python3.10/dist-packages/ipykernel/kernelbase.py\u001b[0m in \u001b[0;36m_input_request\u001b[0;34m(self, prompt, ident, parent, password)\u001b[0m\n\u001b[1;32m    893\u001b[0m             \u001b[0;32mexcept\u001b[0m \u001b[0mKeyboardInterrupt\u001b[0m\u001b[0;34m:\u001b[0m\u001b[0;34m\u001b[0m\u001b[0;34m\u001b[0m\u001b[0m\n\u001b[1;32m    894\u001b[0m                 \u001b[0;31m# re-raise KeyboardInterrupt, to truncate traceback\u001b[0m\u001b[0;34m\u001b[0m\u001b[0;34m\u001b[0m\u001b[0m\n\u001b[0;32m--> 895\u001b[0;31m                 \u001b[0;32mraise\u001b[0m \u001b[0mKeyboardInterrupt\u001b[0m\u001b[0;34m(\u001b[0m\u001b[0;34m\"Interrupted by user\"\u001b[0m\u001b[0;34m)\u001b[0m \u001b[0;32mfrom\u001b[0m \u001b[0;32mNone\u001b[0m\u001b[0;34m\u001b[0m\u001b[0;34m\u001b[0m\u001b[0m\n\u001b[0m\u001b[1;32m    896\u001b[0m             \u001b[0;32mexcept\u001b[0m \u001b[0mException\u001b[0m \u001b[0;32mas\u001b[0m \u001b[0me\u001b[0m\u001b[0;34m:\u001b[0m\u001b[0;34m\u001b[0m\u001b[0;34m\u001b[0m\u001b[0m\n\u001b[1;32m    897\u001b[0m                 \u001b[0mself\u001b[0m\u001b[0;34m.\u001b[0m\u001b[0mlog\u001b[0m\u001b[0;34m.\u001b[0m\u001b[0mwarning\u001b[0m\u001b[0;34m(\u001b[0m\u001b[0;34m\"Invalid Message:\"\u001b[0m\u001b[0;34m,\u001b[0m \u001b[0mexc_info\u001b[0m\u001b[0;34m=\u001b[0m\u001b[0;32mTrue\u001b[0m\u001b[0;34m)\u001b[0m\u001b[0;34m\u001b[0m\u001b[0;34m\u001b[0m\u001b[0m\n",
            "\u001b[0;31mKeyboardInterrupt\u001b[0m: Interrupted by user"
          ]
        }
      ]
    },
    {
      "cell_type": "markdown",
      "source": [
        "22. Implement a function to find the first non-repeating character in a string."
      ],
      "metadata": {
        "id": "ZTjQICiJAOW-"
      }
    },
    {
      "cell_type": "code",
      "source": [
        "from collections import Counter\n",
        "\n",
        "def find_first_non_repeating_char(string):\n",
        "    char_count = Counter(string)\n",
        "\n",
        "    # Find the first non-repeating character\n",
        "    for char in string:\n",
        "        if char_count[char] == 1:\n",
        "            return char\n",
        "\n",
        "    # If no non-repeating character found, return None\n",
        "    return None\n",
        "\n",
        "# Test the function\n",
        "string = input(\"Enter a string: \")\n",
        "\n",
        "result = find_first_non_repeating_char(string)\n",
        "\n",
        "if result:\n",
        "    print(\"The first non-repeating character is:\", result)\n",
        "else:\n",
        "    print(\"No non-repeating character found in the string.\")\n"
      ],
      "metadata": {
        "id": "wTZwmRf8ALuM",
        "colab": {
          "base_uri": "https://localhost:8080/"
        },
        "outputId": "2ccf4368-3dcf-4e30-d4e6-8d728d9d07f1"
      },
      "execution_count": 60,
      "outputs": [
        {
          "output_type": "stream",
          "name": "stdout",
          "text": [
            "Enter a string: pad\n",
            "The first non-repeating character is: p\n"
          ]
        }
      ]
    },
    {
      "cell_type": "markdown",
      "source": [
        "23. Write a program to find the prime factors of a given number."
      ],
      "metadata": {
        "id": "KJW9RuenBxe-"
      }
    },
    {
      "cell_type": "code",
      "source": [
        "def find_prime_factors(number):\n",
        "    prime_factors = []\n",
        "    divisor = 2\n",
        "\n",
        "    while divisor <= number:\n",
        "        if number % divisor == 0:\n",
        "            prime_factors.append(divisor)\n",
        "            number = number / divisor\n",
        "        else:\n",
        "            divisor += 1\n",
        "\n",
        "    return prime_factors\n"
      ],
      "metadata": {
        "id": "LZK3Dt8cLqc0"
      },
      "execution_count": 61,
      "outputs": []
    },
    {
      "cell_type": "markdown",
      "source": [
        "24. Implement a function to check if a given number is a power of two."
      ],
      "metadata": {
        "id": "8dDG_6K8MLNS"
      }
    },
    {
      "cell_type": "code",
      "source": [
        "def is_power_of_two(number):\n",
        "    if number <= 0:\n",
        "        return False\n",
        "\n",
        "    # Check if the number has only a single bit set to 1\n",
        "    return (number & (number - 1)) == 0\n"
      ],
      "metadata": {
        "id": "VSTQzueeMMQd"
      },
      "execution_count": 62,
      "outputs": []
    },
    {
      "cell_type": "code",
      "source": [
        "is_power_of_two(5)"
      ],
      "metadata": {
        "colab": {
          "base_uri": "https://localhost:8080/"
        },
        "id": "LjBBP5IHNkJh",
        "outputId": "b0daf00c-c495-416d-918b-bd6e45792431"
      },
      "execution_count": 63,
      "outputs": [
        {
          "output_type": "execute_result",
          "data": {
            "text/plain": [
              "False"
            ]
          },
          "metadata": {},
          "execution_count": 63
        }
      ]
    },
    {
      "cell_type": "markdown",
      "source": [
        "25. Write a Python program to merge two sorted lists into a single sorted list."
      ],
      "metadata": {
        "id": "3yjeBmhBMoc4"
      }
    },
    {
      "cell_type": "code",
      "source": [
        "def merge_sorted_lists(list1, list2):\n",
        "    merged_list = sorted(list1 + list2)\n",
        "    return merged_list\n"
      ],
      "metadata": {
        "id": "3LsO130eMpI1"
      },
      "execution_count": 64,
      "outputs": []
    },
    {
      "cell_type": "markdown",
      "source": [
        "26. Implement a function to find the mode of a list of numbers."
      ],
      "metadata": {
        "id": "8niLKbsDNsf2"
      }
    },
    {
      "cell_type": "code",
      "source": [
        "from collections import Counter\n",
        "\n",
        "def find_mode(numbers):\n",
        "    counter = Counter(numbers)\n",
        "    max_count = max(counter.values())\n",
        "    modes = [num for num, count in counter.items() if count == max_count]\n",
        "    return modes\n"
      ],
      "metadata": {
        "id": "FZYsFfk8NWMv"
      },
      "execution_count": 65,
      "outputs": []
    },
    {
      "cell_type": "code",
      "source": [
        "find_mode([1,2,3])"
      ],
      "metadata": {
        "colab": {
          "base_uri": "https://localhost:8080/"
        },
        "id": "cv2Utxn-OCqK",
        "outputId": "26b56f76-1244-4df5-b0de-f64773bb56be"
      },
      "execution_count": 66,
      "outputs": [
        {
          "output_type": "execute_result",
          "data": {
            "text/plain": [
              "[1, 2, 3]"
            ]
          },
          "metadata": {},
          "execution_count": 66
        }
      ]
    },
    {
      "cell_type": "markdown",
      "source": [
        "28. Implement a function to calculate the square root of a given number."
      ],
      "metadata": {
        "id": "yNqSTeVMOVeM"
      }
    },
    {
      "cell_type": "code",
      "source": [
        "\n",
        "import math\n",
        "\n",
        "def calculate_square_root(number):\n",
        "    if number < 0:\n",
        "        raise ValueError(\"Square root is not defined for negative numbers.\")\n",
        "    return math.sqrt(number)\n"
      ],
      "metadata": {
        "id": "QvMmqWCNOG0N"
      },
      "execution_count": 67,
      "outputs": []
    },
    {
      "cell_type": "code",
      "source": [
        "calculate_square_root(9)"
      ],
      "metadata": {
        "colab": {
          "base_uri": "https://localhost:8080/"
        },
        "id": "sahqG6M5Omzt",
        "outputId": "59094ca6-ec3d-4ba6-8cd2-a668d86ce104"
      },
      "execution_count": 68,
      "outputs": [
        {
          "output_type": "execute_result",
          "data": {
            "text/plain": [
              "3.0"
            ]
          },
          "metadata": {},
          "execution_count": 68
        }
      ]
    },
    {
      "cell_type": "markdown",
      "source": [
        "29. Write a Python program to check if a given string is a valid palindrome ignoring non-alphanumeric characters."
      ],
      "metadata": {
        "id": "LXaMZhtKOysV"
      }
    },
    {
      "cell_type": "code",
      "source": [
        "\n",
        "import re\n",
        "\n",
        "def is_valid_palindrome(string):\n",
        "    # Remove non-alphanumeric characters and convert to lowercase\n",
        "    cleaned_string = re.sub(r'[^a-zA-Z0-9]', '', string).lower()\n",
        "\n",
        "    # Check if the cleaned string is a palindrome\n",
        "    return cleaned_string == cleaned_string[::-1]"
      ],
      "metadata": {
        "id": "s0Ya7DjuOqFC"
      },
      "execution_count": 69,
      "outputs": []
    },
    {
      "cell_type": "markdown",
      "source": [
        "\n",
        "30. Implement a function to find the minimum element in a rotated sorted list."
      ],
      "metadata": {
        "id": "7IpeNEchPF_X"
      }
    },
    {
      "cell_type": "code",
      "source": [
        "def find_minimum_element(nums):\n",
        "    return min(nums)"
      ],
      "metadata": {
        "id": "EPOhZAjqPCDg"
      },
      "execution_count": 70,
      "outputs": []
    },
    {
      "cell_type": "markdown",
      "source": [
        "31. Write a program to find the sum of all even numbers in a list."
      ],
      "metadata": {
        "id": "TI_8nrMwQ1dU"
      }
    },
    {
      "cell_type": "code",
      "source": [
        "def sum_of_even_numbers(numbers):\n",
        "    sum_even = 0\n",
        "\n",
        "    for num in numbers:\n",
        "        if num % 2 == 0:\n",
        "            sum_even += num\n",
        "\n",
        "    return sum_even\n",
        "\n"
      ],
      "metadata": {
        "id": "r7jNt6xpPp0z"
      },
      "execution_count": 71,
      "outputs": []
    },
    {
      "cell_type": "markdown",
      "source": [
        "32. Implement a function to calculate the power of a number using recursion."
      ],
      "metadata": {
        "id": "rJ9KKg691iKe"
      }
    },
    {
      "cell_type": "code",
      "source": [
        "def power(base, exponent):\n",
        "    # Base case: if the exponent is 0, return 1\n",
        "    if exponent == 0:\n",
        "        return 1\n",
        "    # Recursive case: multiply the base by the result of power(base, exponent-1)\n",
        "    else:\n",
        "        return base * power(base, exponent-1)\n"
      ],
      "metadata": {
        "id": "h2IHOgdm1v1u"
      },
      "execution_count": 72,
      "outputs": []
    },
    {
      "cell_type": "markdown",
      "source": [
        "33. Write a Python program to remove duplicates from a list while preserving the order."
      ],
      "metadata": {
        "id": "H1VLYxRW1_0m"
      }
    },
    {
      "cell_type": "code",
      "source": [
        "def remove_duplicates(lst):\n",
        "    unique_list = []\n",
        "    for item in lst:\n",
        "        if item not in unique_list:\n",
        "            unique_list.append(item)\n",
        "    return unique_list\n"
      ],
      "metadata": {
        "id": "aLsnR5aN1w_X"
      },
      "execution_count": 73,
      "outputs": []
    },
    {
      "cell_type": "markdown",
      "source": [
        "34. Implement a function to find the longest common prefix among a list of strings."
      ],
      "metadata": {
        "id": "FgqygbM62A1B"
      }
    },
    {
      "cell_type": "code",
      "source": [
        "def longest_common_prefix(strs):\n",
        "    if not strs:\n",
        "        return \"\"\n",
        "\n",
        "    # Find the minimum length among the strings\n",
        "    min_len = min(len(s) for s in strs)\n",
        "\n",
        "    # Compare characters at each position\n",
        "    for i in range(min_len):\n",
        "        char = strs[0][i]\n",
        "        if any(s[i] != char for s in strs[1:]):\n",
        "            return strs[0][:i]\n",
        "\n",
        "    return strs[0][:min_len]\n"
      ],
      "metadata": {
        "id": "k99NKL5Y2J-6"
      },
      "execution_count": 74,
      "outputs": []
    },
    {
      "cell_type": "markdown",
      "source": [
        "35. Write a program to check if a given number is a perfect square."
      ],
      "metadata": {
        "id": "oSz-lvTO2KKE"
      }
    },
    {
      "cell_type": "code",
      "source": [
        "def is_perfect_square(number):\n",
        "    if number < 0:\n",
        "        return False\n",
        "    elif number == 0:\n",
        "        return True\n",
        "    else:\n",
        "        sqrt = int(number ** 0.5)\n",
        "        return sqrt * sqrt == number\n"
      ],
      "metadata": {
        "id": "RmwmVshE2eWq"
      },
      "execution_count": 75,
      "outputs": []
    },
    {
      "cell_type": "code",
      "source": [
        "import math\n",
        "\n",
        "def is_perfect_square(number):\n",
        "    if number < 0:\n",
        "        return False\n",
        "    else:\n",
        "        sqrt = math.isqrt(number)\n",
        "        return sqrt * sqrt == number\n"
      ],
      "metadata": {
        "id": "QRdyEwDa2sUr"
      },
      "execution_count": 76,
      "outputs": []
    },
    {
      "cell_type": "markdown",
      "source": [
        "36. Implement a function to calculate the product of all elements in a list."
      ],
      "metadata": {
        "id": "WwZ3KE0-21DH"
      }
    },
    {
      "cell_type": "code",
      "source": [
        "def calculate_product(lst):\n",
        "    product = 1\n",
        "    for num in lst:\n",
        "        product *= num\n",
        "    return product\n"
      ],
      "metadata": {
        "id": "YOEr0ZoS24h-"
      },
      "execution_count": 77,
      "outputs": []
    },
    {
      "cell_type": "markdown",
      "source": [
        "37. Write a Python program to reverse the order of words in a sentence while preserving the word order."
      ],
      "metadata": {
        "id": "GuHAaH9p3Hqj"
      }
    },
    {
      "cell_type": "code",
      "source": [
        "def reverse_sentence(sentence):\n",
        "    words = sentence.split()\n",
        "    reversed_words = words[::-1]\n",
        "    reversed_sentence = ' '.join(reversed_words)\n",
        "    return reversed_sentence\n"
      ],
      "metadata": {
        "id": "KF2VdaNI3Pns"
      },
      "execution_count": 78,
      "outputs": []
    },
    {
      "cell_type": "markdown",
      "source": [
        "38. Implement a function to find the missing number in a given list of consecutive numbers."
      ],
      "metadata": {
        "id": "uAIalVTw3Seq"
      }
    },
    {
      "cell_type": "code",
      "source": [
        "def find_missing_number(lst):\n",
        "    n = len(lst) + 1\n",
        "    expected_sum = (n * (n + 1)) // 2\n",
        "    actual_sum = sum(lst)\n",
        "    missing_number = expected_sum - actual_sum\n",
        "    return missing_number\n"
      ],
      "metadata": {
        "id": "yyCEHnUA3TTe"
      },
      "execution_count": 79,
      "outputs": []
    },
    {
      "cell_type": "markdown",
      "source": [
        "39. Write a program to find the sum of digits of a given number."
      ],
      "metadata": {
        "id": "zSps0Z0R3rXo"
      }
    },
    {
      "cell_type": "code",
      "source": [
        "def sum_of_digits(number):\n",
        "    # Convert the number to a string\n",
        "    num_str = str(number)\n",
        "\n",
        "    # Initialize sum variable\n",
        "    digit_sum = 0\n",
        "\n",
        "    # Iterate over each digit and add it to the sum\n",
        "    for digit in num_str:\n",
        "        digit_sum += int(digit)\n",
        "\n",
        "    return digit_sum\n"
      ],
      "metadata": {
        "id": "JuQRV66S3mz4"
      },
      "execution_count": 80,
      "outputs": []
    },
    {
      "cell_type": "markdown",
      "source": [
        "40. Implement a function to check if a given string is a valid palindrome considering case sensitivity."
      ],
      "metadata": {
        "id": "z2q3ex2o3o7o"
      }
    },
    {
      "cell_type": "code",
      "source": [
        "def is_palindrome(string):\n",
        "    # Remove any whitespace and convert to lowercase\n",
        "    string = string.replace(\" \", \"\").lower()\n",
        "\n",
        "    # Compare the string with its reversed version\n",
        "    return string == string[::-1]\n"
      ],
      "metadata": {
        "id": "_Xy3Og_z4mgL"
      },
      "execution_count": 81,
      "outputs": []
    },
    {
      "cell_type": "markdown",
      "source": [
        "41. Write a Python program to find the smallest missing positive integer in a list."
      ],
      "metadata": {
        "id": "fMZkNdU05S-K"
      }
    },
    {
      "cell_type": "code",
      "source": [
        "def find_smallest_missing_positive(nums):\n",
        "    num_set = set(nums)\n",
        "    smallest_missing = 1\n",
        "\n",
        "    while smallest_missing in num_set:\n",
        "        smallest_missing += 1\n",
        "\n",
        "    return smallest_missing\n"
      ],
      "metadata": {
        "id": "7Uv_VCV940DF"
      },
      "execution_count": 82,
      "outputs": []
    },
    {
      "cell_type": "markdown",
      "source": [
        "42. Implement a function to find the longest palindrome substring in a given string."
      ],
      "metadata": {
        "id": "ZuyMRkni5UhR"
      }
    },
    {
      "cell_type": "code",
      "source": [
        "def longest_palindrome_substring(s):\n",
        "    n = len(s)\n",
        "    max_length = 0\n",
        "    start_index = 0\n",
        "\n",
        "    # Create a table to store the results of subproblems\n",
        "    table = [[False] * n for _ in range(n)]\n",
        "\n",
        "    # All substrings of length 1 are palindromes\n",
        "    for i in range(n):\n",
        "        table[i][i] = True\n",
        "        max_length = 1\n",
        "\n",
        "    # Check for substrings of length 2\n",
        "    for i in range(n - 1):\n",
        "        if s[i] == s[i + 1]:\n",
        "            table[i][i + 1] = True\n",
        "            start_index = i\n",
        "            max_length = 2\n",
        "\n",
        "    # Check for substrings of length greater than 2\n",
        "    for length in range(3, n + 1):\n",
        "        for i in range(n - length + 1):\n",
        "            j = i + length - 1\n",
        "            if s[i] == s[j] and table[i + 1][j - 1]:\n",
        "                table[i][j] = True\n",
        "                start_index = i\n",
        "                max_length = length\n",
        "\n",
        "    return s[start_index:start_index + max_length]\n"
      ],
      "metadata": {
        "id": "P_8oKSyp5zBz"
      },
      "execution_count": 83,
      "outputs": []
    },
    {
      "cell_type": "markdown",
      "source": [
        "43. Write a program to find the number of occurrences of a given element in a list."
      ],
      "metadata": {
        "id": "S_qVP_g750KA"
      }
    },
    {
      "cell_type": "code",
      "source": [
        "def count_occurrences(lst, element):\n",
        "    count = 0\n",
        "    for item in lst:\n",
        "        if item == element:\n",
        "            count += 1\n",
        "    return count\n"
      ],
      "metadata": {
        "id": "iq8QiuxN56j6"
      },
      "execution_count": 84,
      "outputs": []
    },
    {
      "cell_type": "markdown",
      "source": [
        "44. Implement a function to check if a given number is a perfect number."
      ],
      "metadata": {
        "id": "P9KxUBwB6qU-"
      }
    },
    {
      "cell_type": "code",
      "source": [
        "def is_perfect_number(number):\n",
        "    if number <= 0:\n",
        "        return False\n",
        "\n",
        "    divisor_sum = sum(divisor for divisor in range(1, number) if number % divisor == 0)\n",
        "    return divisor_sum == number\n"
      ],
      "metadata": {
        "id": "OAd0ssQ06j0o"
      },
      "execution_count": 85,
      "outputs": []
    },
    {
      "cell_type": "markdown",
      "source": [
        "45. Write a Python program to remove all duplicates from a string."
      ],
      "metadata": {
        "id": "hhL1e6Fc7X1f"
      }
    },
    {
      "cell_type": "code",
      "source": [
        "def remove_duplicates(string):\n",
        "    unique_chars = set(string)\n",
        "    result = ''.join(unique_chars)\n",
        "    return result\n"
      ],
      "metadata": {
        "id": "xuhndCHE7bWJ"
      },
      "execution_count": 86,
      "outputs": []
    },
    {
      "cell_type": "markdown",
      "source": [
        "46. Implement a function to find the first missing positive"
      ],
      "metadata": {
        "id": "lYx6MNrw697u"
      }
    },
    {
      "cell_type": "code",
      "source": [
        "def find_first_missing_positive(nums):\n",
        "    nums_set = set(nums)\n",
        "    n = len(nums)\n",
        "\n",
        "    # Find the first missing positive integer\n",
        "    for i in range(1, n + 2):\n",
        "        if i not in nums_set:\n",
        "            return i\n"
      ],
      "metadata": {
        "id": "eZc23jqo64Jw"
      },
      "execution_count": 87,
      "outputs": []
    }
  ]
}